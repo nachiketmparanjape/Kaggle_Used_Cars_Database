{
 "cells": [
  {
   "cell_type": "code",
   "execution_count": 1,
   "metadata": {
    "collapsed": true
   },
   "outputs": [],
   "source": [
    "# This Python 3 environment comes with many helpful analytics libraries installed\n",
    "# It is defined by the kaggle/python docker image: https://github.com/kaggle/docker-python\n",
    "# For example, here's several helpful packages to load in \n",
    "\n",
    "import numpy as np # linear algebra\n",
    "import pandas as pd # data processing, CSV file I/O (e.g. pd.read_csv)\n",
    "\n",
    "# Input data files are available in the \"../input/\" directory.\n",
    "# For example, running this (by clicking run or pressing Shift+Enter) will list the files in the input directory\n",
    "\n",
    "#from subprocess import check_output\n",
    "#print(check_output([\"ls\", \"../input\"]).decode(\"utf8\"))\n",
    "\n",
    "# Any results you write to the current directory are saved as output.\n",
    "\n",
    "import matplotlib.pyplot as plt\n",
    "% matplotlib inline\n",
    "import datetime\n",
    "import calendar\n",
    "import seaborn as sns"
   ]
  },
  {
   "cell_type": "markdown",
   "metadata": {},
   "source": [
    "## Setting the datetime format while importing data"
   ]
  },
  {
   "cell_type": "code",
   "execution_count": 2,
   "metadata": {
    "collapsed": true
   },
   "outputs": [],
   "source": [
    "fmt = '%Y-%m-%d %H:%M:%S'\n",
    "dateparse = lambda dates: pd.datetime.strptime(dates, fmt)\n",
    "rawautodf = pd.read_csv('used-cars-database/autos.csv', sep=',',encoding='Latin1',parse_dates = ['dateCrawled','dateCreated','lastSeen'], date_parser = dateparse)"
   ]
  },
  {
   "cell_type": "markdown",
   "metadata": {},
   "source": [
    "## Clean up"
   ]
  },
  {
   "cell_type": "code",
   "execution_count": 5,
   "metadata": {
    "collapsed": false
   },
   "outputs": [
    {
     "name": "stdout",
     "output_type": "stream",
     "text": [
      "Size of the dataset - 371528\n",
      "Size of the dataset - 289000\n"
     ]
    }
   ],
   "source": [
    "print( \"Size of the dataset - \" + str(len(rawautodf)))\n",
    "\n",
    "#drop name\n",
    "autodf = rawautodf.drop('name',axis = 1)\n",
    "\n",
    "#We can live without the 3 gewerblich. Let's analyze the data with only the private sellers\n",
    "autodf = autodf[autodf['seller'] != 'gewerblich']\n",
    "autodf = autodf.drop('seller',axis = 1)\n",
    "\n",
    "#Same here. Let's drop the 12\n",
    "autodf = autodf[autodf['offerType'] != 'Gesuch']\n",
    "autodf = autodf.drop('offerType',axis = 1)\n",
    "\n",
    "#Let's drop the cars that are either too cheap of too expensive\n",
    "autodf = autodf[autodf.price > 100]\n",
    "autodf = autodf[autodf.price < 150000]\n",
    "\n",
    "#Drop abtest (don't know what it means)\n",
    "autodf = autodf.drop('abtest',1)\n",
    "\n",
    "# I only want to consier for 1980 to 2017 year of registration\n",
    "autodf = autodf[(autodf.yearOfRegistration >= 1990) & (autodf.yearOfRegistration < 2017)]\n",
    "\n",
    "#Only consider between 50 and 300 powerPS\n",
    "autodf = autodf[(autodf.powerPS <= 300) & (autodf.powerPS > 50)]\n",
    "\n",
    "autodf.gearbox = autodf.gearbox.astype('category')\n",
    "autodf.model = autodf.model.astype('category')\n",
    "autodf.vehicleType = autodf.vehicleType.astype('category')\n",
    "autodf.monthOfRegistration = autodf.monthOfRegistration.astype('category')\n",
    "autodf.fuelType = autodf.fuelType.astype('category')\n",
    "\n",
    "print( \"Size of the dataset - \" + str(len(autodf)))"
   ]
  },
  {
   "cell_type": "code",
   "execution_count": 10,
   "metadata": {
    "collapsed": false
   },
   "outputs": [
    {
     "data": {
      "text/html": [
       "<div>\n",
       "<table border=\"1\" class=\"dataframe\">\n",
       "  <thead>\n",
       "    <tr style=\"text-align: right;\">\n",
       "      <th></th>\n",
       "      <th>dateCrawled</th>\n",
       "      <th>price</th>\n",
       "      <th>vehicleType</th>\n",
       "      <th>yearOfRegistration</th>\n",
       "      <th>gearbox</th>\n",
       "      <th>powerPS</th>\n",
       "      <th>model</th>\n",
       "      <th>kilometer</th>\n",
       "      <th>monthOfRegistration</th>\n",
       "      <th>fuelType</th>\n",
       "      <th>brand</th>\n",
       "      <th>notRepairedDamage</th>\n",
       "      <th>dateCreated</th>\n",
       "      <th>nrOfPictures</th>\n",
       "      <th>postalCode</th>\n",
       "      <th>lastSeen</th>\n",
       "    </tr>\n",
       "  </thead>\n",
       "  <tbody>\n",
       "    <tr>\n",
       "      <th>1</th>\n",
       "      <td>2016-03-24 10:58:45</td>\n",
       "      <td>18300</td>\n",
       "      <td>coupe</td>\n",
       "      <td>2011</td>\n",
       "      <td>manuell</td>\n",
       "      <td>190</td>\n",
       "      <td>NaN</td>\n",
       "      <td>125000</td>\n",
       "      <td>5</td>\n",
       "      <td>diesel</td>\n",
       "      <td>audi</td>\n",
       "      <td>ja</td>\n",
       "      <td>2016-03-24</td>\n",
       "      <td>0</td>\n",
       "      <td>66954</td>\n",
       "      <td>2016-04-07 01:46:50</td>\n",
       "    </tr>\n",
       "  </tbody>\n",
       "</table>\n",
       "</div>"
      ],
      "text/plain": [
       "          dateCrawled  price vehicleType  yearOfRegistration  gearbox  \\\n",
       "1 2016-03-24 10:58:45  18300       coupe                2011  manuell   \n",
       "\n",
       "   powerPS model  kilometer monthOfRegistration fuelType brand  \\\n",
       "1      190   NaN     125000                   5   diesel  audi   \n",
       "\n",
       "  notRepairedDamage dateCreated  nrOfPictures  postalCode            lastSeen  \n",
       "1                ja  2016-03-24             0       66954 2016-04-07 01:46:50  "
      ]
     },
     "execution_count": 10,
     "metadata": {},
     "output_type": "execute_result"
    }
   ],
   "source": [
    "#autodf.corr()\n",
    "autodf.head(1)"
   ]
  },
  {
   "cell_type": "markdown",
   "metadata": {},
   "source": [
    "### Let's compare prices with gearbox, fuel type, brand and vehicle type"
   ]
  },
  {
   "cell_type": "code",
   "execution_count": null,
   "metadata": {
    "collapsed": true
   },
   "outputs": [],
   "source": [
    "fig = sns.FacetGrid(au,hue='Sex',aspect=4)\n",
    "fig.map(sns.kdeplot,'Age',shade=True)\n",
    "\n",
    "oldest = titanic_df['Age'].max()\n",
    "\n",
    "fig.set(xlim=(0,oldest))\n",
    "\n",
    "fig.add_legend()"
   ]
  }
 ],
 "metadata": {
  "anaconda-cloud": {},
  "kernelspec": {
   "display_name": "Python [default]",
   "language": "python",
   "name": "python2"
  },
  "language_info": {
   "codemirror_mode": {
    "name": "ipython",
    "version": 2
   },
   "file_extension": ".py",
   "mimetype": "text/x-python",
   "name": "python",
   "nbconvert_exporter": "python",
   "pygments_lexer": "ipython2",
   "version": "2.7.12"
  }
 },
 "nbformat": 4,
 "nbformat_minor": 1
}
